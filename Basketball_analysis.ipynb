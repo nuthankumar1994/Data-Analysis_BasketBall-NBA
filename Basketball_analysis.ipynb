{
 "cells": [
  {
   "cell_type": "code",
   "execution_count": 2,
   "metadata": {},
   "outputs": [],
   "source": [
    "import matplotlib.pyplot as plt\n",
    "import seaborn as sns\n",
    "import plotly as px\n",
    "import pandas as pd\n",
    "import numpy as np "
   ]
  },
  {
   "cell_type": "code",
   "execution_count": 3,
   "metadata": {},
   "outputs": [],
   "source": [
    "data = pd.read_csv('/Users/nuthankumar/Downloads/players_stats_by_season_full_details.csv')"
   ]
  },
  {
   "cell_type": "code",
   "execution_count": 4,
   "metadata": {},
   "outputs": [
    {
     "data": {
      "text/html": [
       "<div>\n",
       "<style scoped>\n",
       "    .dataframe tbody tr th:only-of-type {\n",
       "        vertical-align: middle;\n",
       "    }\n",
       "\n",
       "    .dataframe tbody tr th {\n",
       "        vertical-align: top;\n",
       "    }\n",
       "\n",
       "    .dataframe thead th {\n",
       "        text-align: right;\n",
       "    }\n",
       "</style>\n",
       "<table border=\"1\" class=\"dataframe\">\n",
       "  <thead>\n",
       "    <tr style=\"text-align: right;\">\n",
       "      <th></th>\n",
       "      <th>League</th>\n",
       "      <th>Season</th>\n",
       "      <th>Stage</th>\n",
       "      <th>Player</th>\n",
       "      <th>Team</th>\n",
       "      <th>GP</th>\n",
       "      <th>MIN</th>\n",
       "      <th>FGM</th>\n",
       "      <th>FGA</th>\n",
       "      <th>3PM</th>\n",
       "      <th>...</th>\n",
       "      <th>PTS</th>\n",
       "      <th>birth_year</th>\n",
       "      <th>birth_month</th>\n",
       "      <th>birth_date</th>\n",
       "      <th>height</th>\n",
       "      <th>height_cm</th>\n",
       "      <th>weight</th>\n",
       "      <th>weight_kg</th>\n",
       "      <th>nationality</th>\n",
       "      <th>high_school</th>\n",
       "    </tr>\n",
       "  </thead>\n",
       "  <tbody>\n",
       "    <tr>\n",
       "      <th>0</th>\n",
       "      <td>NBA</td>\n",
       "      <td>2009 - 2010</td>\n",
       "      <td>Regular_Season</td>\n",
       "      <td>Kevin Durant</td>\n",
       "      <td>OKC</td>\n",
       "      <td>82</td>\n",
       "      <td>3239.3</td>\n",
       "      <td>794</td>\n",
       "      <td>1668</td>\n",
       "      <td>128</td>\n",
       "      <td>...</td>\n",
       "      <td>2472</td>\n",
       "      <td>1988.0</td>\n",
       "      <td>Sep</td>\n",
       "      <td>Sep 29, 1988</td>\n",
       "      <td>6-9</td>\n",
       "      <td>206.0</td>\n",
       "      <td>240.0</td>\n",
       "      <td>109.0</td>\n",
       "      <td>United States</td>\n",
       "      <td>Montrose Christian School</td>\n",
       "    </tr>\n",
       "    <tr>\n",
       "      <th>1</th>\n",
       "      <td>NBA</td>\n",
       "      <td>2009 - 2010</td>\n",
       "      <td>Regular_Season</td>\n",
       "      <td>LeBron James</td>\n",
       "      <td>CLE</td>\n",
       "      <td>76</td>\n",
       "      <td>2965.6</td>\n",
       "      <td>768</td>\n",
       "      <td>1528</td>\n",
       "      <td>129</td>\n",
       "      <td>...</td>\n",
       "      <td>2258</td>\n",
       "      <td>1984.0</td>\n",
       "      <td>Dec</td>\n",
       "      <td>Dec 30, 1984</td>\n",
       "      <td>6-8</td>\n",
       "      <td>203.0</td>\n",
       "      <td>250.0</td>\n",
       "      <td>113.0</td>\n",
       "      <td>United States</td>\n",
       "      <td>St. Vincent St. Mary High School</td>\n",
       "    </tr>\n",
       "    <tr>\n",
       "      <th>2</th>\n",
       "      <td>NBA</td>\n",
       "      <td>2009 - 2010</td>\n",
       "      <td>Regular_Season</td>\n",
       "      <td>Dwyane Wade</td>\n",
       "      <td>MIA</td>\n",
       "      <td>77</td>\n",
       "      <td>2792.4</td>\n",
       "      <td>719</td>\n",
       "      <td>1511</td>\n",
       "      <td>73</td>\n",
       "      <td>...</td>\n",
       "      <td>2045</td>\n",
       "      <td>1982.0</td>\n",
       "      <td>Jan</td>\n",
       "      <td>Jan 17, 1982</td>\n",
       "      <td>6-4</td>\n",
       "      <td>193.0</td>\n",
       "      <td>220.0</td>\n",
       "      <td>100.0</td>\n",
       "      <td>United States</td>\n",
       "      <td>Harold L. Richards High School</td>\n",
       "    </tr>\n",
       "    <tr>\n",
       "      <th>3</th>\n",
       "      <td>NBA</td>\n",
       "      <td>2009 - 2010</td>\n",
       "      <td>Regular_Season</td>\n",
       "      <td>Dirk Nowitzki</td>\n",
       "      <td>DAL</td>\n",
       "      <td>81</td>\n",
       "      <td>3038.8</td>\n",
       "      <td>720</td>\n",
       "      <td>1496</td>\n",
       "      <td>51</td>\n",
       "      <td>...</td>\n",
       "      <td>2027</td>\n",
       "      <td>1978.0</td>\n",
       "      <td>Jun</td>\n",
       "      <td>Jun 19, 1978</td>\n",
       "      <td>7-0</td>\n",
       "      <td>213.0</td>\n",
       "      <td>245.0</td>\n",
       "      <td>111.0</td>\n",
       "      <td>Germany</td>\n",
       "      <td>NaN</td>\n",
       "    </tr>\n",
       "    <tr>\n",
       "      <th>4</th>\n",
       "      <td>NBA</td>\n",
       "      <td>2009 - 2010</td>\n",
       "      <td>Regular_Season</td>\n",
       "      <td>Kobe Bryant</td>\n",
       "      <td>LAL</td>\n",
       "      <td>73</td>\n",
       "      <td>2835.4</td>\n",
       "      <td>716</td>\n",
       "      <td>1569</td>\n",
       "      <td>99</td>\n",
       "      <td>...</td>\n",
       "      <td>1970</td>\n",
       "      <td>1978.0</td>\n",
       "      <td>Aug</td>\n",
       "      <td>Aug 23, 1978</td>\n",
       "      <td>6-6</td>\n",
       "      <td>198.0</td>\n",
       "      <td>212.0</td>\n",
       "      <td>96.0</td>\n",
       "      <td>United States</td>\n",
       "      <td>Lower Merion High School</td>\n",
       "    </tr>\n",
       "  </tbody>\n",
       "</table>\n",
       "<p>5 rows × 31 columns</p>\n",
       "</div>"
      ],
      "text/plain": [
       "  League       Season           Stage         Player Team  GP     MIN  FGM  \\\n",
       "0    NBA  2009 - 2010  Regular_Season   Kevin Durant  OKC  82  3239.3  794   \n",
       "1    NBA  2009 - 2010  Regular_Season   LeBron James  CLE  76  2965.6  768   \n",
       "2    NBA  2009 - 2010  Regular_Season    Dwyane Wade  MIA  77  2792.4  719   \n",
       "3    NBA  2009 - 2010  Regular_Season  Dirk Nowitzki  DAL  81  3038.8  720   \n",
       "4    NBA  2009 - 2010  Regular_Season    Kobe Bryant  LAL  73  2835.4  716   \n",
       "\n",
       "    FGA  3PM  ...   PTS  birth_year  birth_month    birth_date  height  \\\n",
       "0  1668  128  ...  2472      1988.0          Sep  Sep 29, 1988     6-9   \n",
       "1  1528  129  ...  2258      1984.0          Dec  Dec 30, 1984     6-8   \n",
       "2  1511   73  ...  2045      1982.0          Jan  Jan 17, 1982     6-4   \n",
       "3  1496   51  ...  2027      1978.0          Jun  Jun 19, 1978     7-0   \n",
       "4  1569   99  ...  1970      1978.0          Aug  Aug 23, 1978     6-6   \n",
       "\n",
       "   height_cm  weight  weight_kg    nationality  \\\n",
       "0      206.0   240.0      109.0  United States   \n",
       "1      203.0   250.0      113.0  United States   \n",
       "2      193.0   220.0      100.0  United States   \n",
       "3      213.0   245.0      111.0        Germany   \n",
       "4      198.0   212.0       96.0  United States   \n",
       "\n",
       "                        high_school  \n",
       "0         Montrose Christian School  \n",
       "1  St. Vincent St. Mary High School  \n",
       "2    Harold L. Richards High School  \n",
       "3                               NaN  \n",
       "4          Lower Merion High School  \n",
       "\n",
       "[5 rows x 31 columns]"
      ]
     },
     "execution_count": 4,
     "metadata": {},
     "output_type": "execute_result"
    }
   ],
   "source": [
    "data.head()"
   ]
  },
  {
   "cell_type": "code",
   "execution_count": 5,
   "metadata": {},
   "outputs": [
    {
     "data": {
      "text/plain": [
       "<seaborn.axisgrid.FacetGrid at 0x7fd52222d370>"
      ]
     },
     "execution_count": 5,
     "metadata": {},
     "output_type": "execute_result"
    },
    {
     "data": {
      "image/png": "[encoded data removed]",
      "text/plain": [
       "<Figure size 1296x216 with 1 Axes>"
      ]
     },
     "metadata": {},
     "output_type": "display_data"
    }
   ],
   "source": [
    "sns.catplot(kind='count', x='height_cm', data=data, aspect=6, height=3)"
   ]
  },
  {
   "cell_type": "code",
   "execution_count": 6,
   "metadata": {},
   "outputs": [],
   "source": [
    "nba=data[data['League']=='NBA']"
   ]
  },
  {
   "cell_type": "code",
   "execution_count": 7,
   "metadata": {},
   "outputs": [
    {
     "name": "stdout",
     "output_type": "stream",
     "text": [
      "The teams of NBA are : ['OKC' 'CLE' 'MIA' 'DAL' 'LAL' 'DEN' 'PHX' 'MEM' 'TOR' 'CHA' 'NYK' 'GSW'\n",
      " 'ATL' 'CHI' 'HOU' 'NJN' 'NOP' 'UTA' 'ORL' 'IND' 'SAC' 'LAC' 'PHI' 'POR'\n",
      " 'SAS' 'BOS' 'MIN' 'MIL' 'DET' 'WAS' 'BRK']\n"
     ]
    }
   ],
   "source": [
    "print('The teams of NBA are :',nba.Team.unique())"
   ]
  },
  {
   "cell_type": "code",
   "execution_count": 8,
   "metadata": {},
   "outputs": [],
   "source": [
    "nba_2018=nba[nba['Season']=='2018 - 2019']"
   ]
  },
  {
   "cell_type": "code",
   "execution_count": 10,
   "metadata": {},
   "outputs": [],
   "source": [
    "nba_2018=nba[nba['Season']=='2018 - 2019']"
   ]
  },
  {
   "cell_type": "code",
   "execution_count": 11,
   "metadata": {},
   "outputs": [],
   "source": [
    "score={}\n",
    "for i in nba_2018.Team.unique():\n",
    "    score[i]=sum(nba_2018[nba_2018['Team']==i]['PTS'].values)"
   ]
  },
  {
   "cell_type": "code",
   "execution_count": 12,
   "metadata": {},
   "outputs": [],
   "source": [
    "score=sorted(score.items(), key=lambda x: x[1], reverse=True)"
   ]
  },
  {
   "cell_type": "code",
   "execution_count": 13,
   "metadata": {},
   "outputs": [],
   "source": [
    "score=np.array(score)"
   ]
  },
  {
   "cell_type": "code",
   "execution_count": 14,
   "metadata": {},
   "outputs": [],
   "source": [
    "t=score[:10,0]\n",
    "s=score[:10,1]"
   ]
  },
  {
   "cell_type": "code",
   "execution_count": 15,
   "metadata": {},
   "outputs": [
    {
     "data": {
      "text/plain": [
       "<BarContainer object of 10 artists>"
      ]
     },
     "execution_count": 15,
     "metadata": {},
     "output_type": "execute_result"
    },
    {
     "data": {
      "image/png": "[encoded data removed]",
      "text/plain": [
       "<Figure size 432x288 with 1 Axes>"
      ]
     },
     "metadata": {},
     "output_type": "display_data"
    }
   ],
   "source": [
    "plt.bar(t,s)"
   ]
  },
  {
   "cell_type": "code",
   "execution_count": 16,
   "metadata": {},
   "outputs": [],
   "source": [
    "school={}\n",
    "for i in nba.high_school.unique():\n",
    "    school[i]=len(nba[nba['high_school']==i]['Player'].unique())"
   ]
  },
  {
   "cell_type": "code",
   "execution_count": 17,
   "metadata": {},
   "outputs": [],
   "source": [
    "school=sorted(school.items(), key=lambda x: x[1], reverse=True)"
   ]
  },
  {
   "cell_type": "code",
   "execution_count": 18,
   "metadata": {},
   "outputs": [],
   "source": [
    "school=np.array(school)"
   ]
  },
  {
   "cell_type": "code",
   "execution_count": 19,
   "metadata": {},
   "outputs": [
    {
     "data": {
      "image/png": "[encoded data removed]",
      "text/plain": [
       "<Figure size 432x288 with 1 Axes>"
      ]
     },
     "metadata": {},
     "output_type": "display_data"
    }
   ],
   "source": [
    "sn=school[:10,0]\n",
    "snm=school[:10,1]\n",
    "plt.bar(sn,snm)\n",
    "plt.xticks(rotation=90)\n",
    "plt.show()"
   ]
  },
  {
   "cell_type": "code",
   "execution_count": null,
   "metadata": {},
   "outputs": [],
   "source": []
  }
 ],
 "metadata": {
  "interpreter": {
   "hash": "40d3a090f54c6569ab1632332b64b2c03c39dcf918b08424e98f38b5ae0af88f"
  },
  "kernelspec": {
   "display_name": "Python 3.9.7 ('base')",
   "language": "python",
   "name": "python3"
  },
  "language_info": {
   "codemirror_mode": {
    "name": "ipython",
    "version": 3
   },
   "file_extension": ".py",
   "mimetype": "text/x-python",
   "name": "python",
   "nbconvert_exporter": "python",
   "pygments_lexer": "ipython3",
   "version": "3.9.7"
  },
  "orig_nbformat": 4
 },
 "nbformat": 4,
 "nbformat_minor": 2
}
